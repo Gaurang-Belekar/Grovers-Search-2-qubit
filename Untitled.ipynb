{
 "cells": [
  {
   "cell_type": "code",
   "execution_count": 4,
   "id": "87639d1c",
   "metadata": {},
   "outputs": [],
   "source": [
    "from qiskit import *\n",
    "import matplotlib.pyplot as plt\n",
    "import numpy as np\n"
   ]
  },
  {
   "cell_type": "code",
   "execution_count": 5,
   "id": "4ef589fd",
   "metadata": {},
   "outputs": [
    {
     "data": {
      "text/html": [
       "<pre style=\"word-wrap: normal;white-space: pre;background: #fff0;line-height: 1.1;font-family: &quot;Courier New&quot;,Courier,monospace\">        \n",
       "q_0: ─■─\n",
       "      │ \n",
       "q_1: ─■─\n",
       "        </pre>"
      ],
      "text/plain": [
       "        \n",
       "q_0: ─■─\n",
       "      │ \n",
       "q_1: ─■─\n",
       "        "
      ]
     },
     "execution_count": 5,
     "metadata": {},
     "output_type": "execute_result"
    }
   ],
   "source": [
    "#Defining Oracle of the circuit\n",
    "\n",
    "oracle = QuantumCircuit(2,name ='oracle')\n",
    "oracle.cz(0,1)\n",
    "oracle.to_gate()\n",
    "oracle.draw()"
   ]
  },
  {
   "cell_type": "code",
   "execution_count": 6,
   "id": "bf7a85e4",
   "metadata": {},
   "outputs": [
    {
     "data": {
      "text/html": [
       "<pre style=\"word-wrap: normal;white-space: pre;background: #fff0;line-height: 1.1;font-family: &quot;Courier New&quot;,Courier,monospace\">     ┌───┐┌─────────┐\n",
       "q_0: ┤ H ├┤0        ├\n",
       "     ├───┤│  oracle │\n",
       "q_1: ┤ H ├┤1        ├\n",
       "     └───┘└─────────┘\n",
       "c: 2/════════════════\n",
       "                     </pre>"
      ],
      "text/plain": [
       "     ┌───┐┌─────────┐\n",
       "q_0: ┤ H ├┤0        ├\n",
       "     ├───┤│  oracle │\n",
       "q_1: ┤ H ├┤1        ├\n",
       "     └───┘└─────────┘\n",
       "c: 2/════════════════\n",
       "                     "
      ]
     },
     "execution_count": 6,
     "metadata": {},
     "output_type": "execute_result"
    }
   ],
   "source": [
    "backend = Aer.get_backend('statevector_simulator')\n",
    "grover_circ = QuantumCircuit(2,2)\n",
    "grover_circ.h([0,1]) #Creating super postion of inputs as |00> |01> |10> and |11>\n",
    "grover_circ.append(oracle,[0,1])\n",
    "grover_circ.draw()"
   ]
  },
  {
   "cell_type": "code",
   "execution_count": 7,
   "id": "cd6d9fbd",
   "metadata": {},
   "outputs": [],
   "source": [
    "job = execute(grover_circ,backend)\n",
    "result = job.result()\n"
   ]
  },
  {
   "cell_type": "code",
   "execution_count": 8,
   "id": "2bea6b20",
   "metadata": {},
   "outputs": [
    {
     "data": {
      "text/plain": [
       "array([ 0.5+0.j,  0.5+0.j,  0.5+0.j, -0.5+0.j])"
      ]
     },
     "execution_count": 8,
     "metadata": {},
     "output_type": "execute_result"
    }
   ],
   "source": [
    "sv = result.get_statevector()\n",
    "np.around(sv,2)"
   ]
  },
  {
   "cell_type": "code",
   "execution_count": 9,
   "id": "cc106191",
   "metadata": {},
   "outputs": [
    {
     "data": {
      "text/plain": [
       "Instruction(name='reflection', num_qubits=2, num_clbits=0, params=[])"
      ]
     },
     "execution_count": 9,
     "metadata": {},
     "output_type": "execute_result"
    }
   ],
   "source": [
    "from qiskit import *\n",
    "import matplotlib.pyplot as plt\n",
    "import numpy as np\n",
    "\n",
    "reflection = QuantumCircuit(2, name ='reflection')\n",
    "reflection.h([0,1])\n",
    "reflection.z([0,1])\n",
    "reflection.cz(0,1)\n",
    "reflection.h([0,1])\n",
    "reflection.to_gate()"
   ]
  },
  {
   "cell_type": "code",
   "execution_count": 10,
   "id": "c6c5bc8b",
   "metadata": {},
   "outputs": [
    {
     "data": {
      "text/html": [
       "<pre style=\"word-wrap: normal;white-space: pre;background: #fff0;line-height: 1.1;font-family: &quot;Courier New&quot;,Courier,monospace\">     ┌───┐┌───┐   ┌───┐\n",
       "q_0: ┤ H ├┤ Z ├─■─┤ H ├\n",
       "     ├───┤├───┤ │ ├───┤\n",
       "q_1: ┤ H ├┤ Z ├─■─┤ H ├\n",
       "     └───┘└───┘   └───┘</pre>"
      ],
      "text/plain": [
       "     ┌───┐┌───┐   ┌───┐\n",
       "q_0: ┤ H ├┤ Z ├─■─┤ H ├\n",
       "     ├───┤├───┤ │ ├───┤\n",
       "q_1: ┤ H ├┤ Z ├─■─┤ H ├\n",
       "     └───┘└───┘   └───┘"
      ]
     },
     "execution_count": 10,
     "metadata": {},
     "output_type": "execute_result"
    }
   ],
   "source": [
    "reflection.draw()"
   ]
  },
  {
   "cell_type": "code",
   "execution_count": 14,
   "id": "16fddc06",
   "metadata": {},
   "outputs": [
    {
     "data": {
      "text/plain": [
       "<qiskit.circuit.instructionset.InstructionSet at 0x7fa77c041f40>"
      ]
     },
     "execution_count": 14,
     "metadata": {},
     "output_type": "execute_result"
    }
   ],
   "source": [
    "backend = Aer.get_backend('qasm_simulator')\n",
    "qc = QuantumCircuit(2,2)\n",
    "qc.append(oracle,[0,1])\n",
    "qc.append(reflection,[0,1])\n",
    "qc.measure([0,1],[0,1])"
   ]
  },
  {
   "cell_type": "code",
   "execution_count": 15,
   "id": "58cea560",
   "metadata": {},
   "outputs": [
    {
     "data": {
      "text/html": [
       "<pre style=\"word-wrap: normal;white-space: pre;background: #fff0;line-height: 1.1;font-family: &quot;Courier New&quot;,Courier,monospace\">     ┌─────────┐┌─────────────┐┌─┐   \n",
       "q_0: ┤0        ├┤0            ├┤M├───\n",
       "     │  oracle ││  reflection │└╥┘┌─┐\n",
       "q_1: ┤1        ├┤1            ├─╫─┤M├\n",
       "     └─────────┘└─────────────┘ ║ └╥┘\n",
       "c: 2/═══════════════════════════╩══╩═\n",
       "                                0  1 </pre>"
      ],
      "text/plain": [
       "     ┌─────────┐┌─────────────┐┌─┐   \n",
       "q_0: ┤0        ├┤0            ├┤M├───\n",
       "     │  oracle ││  reflection │└╥┘┌─┐\n",
       "q_1: ┤1        ├┤1            ├─╫─┤M├\n",
       "     └─────────┘└─────────────┘ ║ └╥┘\n",
       "c: 2/═══════════════════════════╩══╩═\n",
       "                                0  1 "
      ]
     },
     "execution_count": 15,
     "metadata": {},
     "output_type": "execute_result"
    }
   ],
   "source": [
    "qc.draw()"
   ]
  },
  {
   "cell_type": "code",
   "execution_count": null,
   "id": "9a202ee7",
   "metadata": {},
   "outputs": [],
   "source": [
    "job = execute(qc,backend,)"
   ]
  }
 ],
 "metadata": {
  "kernelspec": {
   "display_name": "Python 3 (ipykernel)",
   "language": "python",
   "name": "python3"
  },
  "language_info": {
   "codemirror_mode": {
    "name": "ipython",
    "version": 3
   },
   "file_extension": ".py",
   "mimetype": "text/x-python",
   "name": "python",
   "nbconvert_exporter": "python",
   "pygments_lexer": "ipython3",
   "version": "3.9.7"
  }
 },
 "nbformat": 4,
 "nbformat_minor": 5
}
